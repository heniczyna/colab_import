{
  "nbformat": 4,
  "nbformat_minor": 0,
  "metadata": {
    "colab": {
      "name": "Copy of Validate input a-h 1-8.ipynb",
      "provenance": [],
      "collapsed_sections": [],
      "include_colab_link": true
    },
    "kernelspec": {
      "name": "python3",
      "display_name": "Python 3"
    }
  },
  "cells": [
    {
      "cell_type": "markdown",
      "metadata": {
        "id": "view-in-github",
        "colab_type": "text"
      },
      "source": [
        "<a href=\"https://colab.research.google.com/github/heniczyna/colab_import/blob/master/Copy_of_Validate_input_a_h_1_8_nana.ipynb\" target=\"_parent\"><img src=\"https://colab.research.google.com/assets/colab-badge.svg\" alt=\"Open In Colab\"/></a>"
      ]
    },
    {
      "cell_type": "markdown",
      "metadata": {
        "id": "zFgaVQr2FDPs",
        "colab_type": "text"
      },
      "source": [
        "TEST ZMIANY"
      ]
    },
    {
      "cell_type": "markdown",
      "metadata": {
        "id": "CnRfhZlB-Zas",
        "colab_type": "text"
      },
      "source": [
        "\n",
        "\n",
        "---\n",
        "\n",
        "\n",
        "Positions on a chess board are identified by a letter and a number. The letter identifies the column, while the number identifies the row, as shown below:\n",
        "\n",
        "![chess_board](https://images89.fotosik.pl/378/828b0d249cc61b70.png)\n",
        "\n",
        "Write a program that reads a position from the user and returns color of the square. For example, if the user enters `a1` then your program should report that the square is black. If the user enters `d5` then your program should report that the square is white.\n",
        "\n",
        "\n",
        "---\n",
        "\n"
      ]
    },
    {
      "cell_type": "code",
      "metadata": {
        "id": "dSBJkalq9x4H",
        "colab_type": "code",
        "colab": {}
      },
      "source": [
        "valid_column = [\"a\", \"b\", \"c\", \"d\", \"e\", \"f\", \"g\", \"h\"]\n",
        "\n",
        "while True:\n",
        "  #Read the input values from the user\n",
        "  position = input(\"Enter the two characters position such as a1: \")\n",
        "  \n",
        "  #Validate input\n",
        "  if len(position) != 2:  #checking if input is ONLY two characters, if not ask user for new input\n",
        "    print(\"Not valid input. Try again (error 1)!\")\n",
        "  else:\n",
        "    column = position[0]\n",
        "    if column not in valid_column: #checking if first character matches valid values, if not ask user for new input\n",
        "      print(\"Not valid input. Try again (error 2)!\")\n",
        "    else:\n",
        "      try:\n",
        "        row = int(position[1])\n",
        "      except ValueError: #when parsing to int is not possible, make an exception and ask user for new input\n",
        "        print(\"Not valid input. Try again (error 3)!\")\n",
        "        continue #jump to start of WHILE\n",
        "      if (row < 1 or row > 8): #checking if value is in range 1-8, if not ask user for new input\n",
        "        print(\"Not valid input. Try again (error 4)!\")\n",
        "      else:\n",
        "        break\n",
        "\n",
        "#Looking for color of squares\n",
        "if ((column == \"a\" or column == \"c\" or column == \"e\" or column == \"e\" or column == \"g\") and (row % 2 != 0)) or ((column == \"b\" or column == \"d\" or column == \"f\" or column == \"h\") and (row % 2 == 0)):\n",
        "  color = \"BLACK\"\n",
        "else:  \n",
        "  color = \"WHITE\"\n",
        "\n",
        "print(color)"
      ],
      "execution_count": 0,
      "outputs": []
    }
  ]
}